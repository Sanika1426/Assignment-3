{
  "nbformat": 4,
  "nbformat_minor": 0,
  "metadata": {
    "colab": {
      "provenance": []
    },
    "kernelspec": {
      "name": "python3",
      "display_name": "Python 3"
    },
    "language_info": {
      "name": "python"
    }
  },
  "cells": [
    {
      "cell_type": "markdown",
      "source": [
        "Theory Questions\n",
        "1.  What is the difference between a function and a method in Python?\n",
        "- Function = Independent code block\n",
        "\n",
        " Method = Function inside an object (class instance)\n",
        "2.  Explain the concept of function arguments and parameters in Python?\n",
        "- Parameters are the placeholders in the function definition.\n",
        "\n",
        " Arguments are the actual values passed to the function when it's called.\n",
        "3.  What are the different ways to define and call a function in Python?\n",
        "- Ways to Define a Function in Python\n",
        " Standard Function\n",
        "  \n",
        "  Function with Default Parameters\n",
        "\n",
        "  Function with Variable-Length Arguments\n",
        "\n",
        "  Lambda Function (Anonymous)\n",
        "\n",
        "-   Ways to Call a Function\n",
        "\n",
        " Positional Arguments\n",
        "\n",
        " Keyword Arguments\n",
        "\n",
        " **Using *args and kwargs\n",
        "\n",
        " Calling a Lambda Function\n",
        "4. What is the purpose of the `return` statement in a Python function?\n",
        "- The return statement in a Python function is used to send a value back to the caller of the function.\n",
        "5. What are iterators in Python and how do they differ from iterables?\n",
        "- In Python, iterators and iterables are related but different concepts used in looping and data traversal.\n",
        "6.  Explain the concept of generators in Python and how they are defined?\n",
        "- Generators are a special type of iterator that are used to generate values on the fly, one at a time, without storing them all in memory. They are defined like normal functions, but use yield instead of return.\n",
        "7.  What are the advantages of using generators over regular functions?\n",
        "- Advantages of Using Generators Over Regular Functions in Python:\n",
        "\n",
        " Memory Efficiency\n",
        "\n",
        " Lazy Evaluation\n",
        "\n",
        "  Infinite Sequences\n",
        "\n",
        "  Cleaner Code for Iterators\n",
        "\n",
        "  Better Performance in Loops\n",
        "8.  What is a lambda function in Python and when is it typically used?\n",
        "- A lambda function is a small, anonymous (unnamed) function defined using the lambda keyword.\n",
        "\n",
        "9.  Explain the purpose and usage of the `map()` function in Python?\n",
        "- The map() function is used to apply a function to each item in an iterable (like a list, tuple, etc.) and return a new iterable (map object) with the results.\n",
        "10.  What is the difference between `map()`, `reduce()`, and `filter()` functions in Python?\n",
        "- Great question! Here's a concise comparison of the map(), filter(), and reduce() functions in Python — all are part of functional programming and operate on iterables.\n",
        "\n",
        "\n",
        "\n",
        "\n",
        "\n",
        "\n",
        ""
      ],
      "metadata": {
        "id": "jElcPbpFqSsC"
      }
    },
    {
      "cell_type": "code",
      "source": [
        "#  Write a Python function that takes a list of numbers as input and returns the sum of all even numbers in the list.#\n",
        "def sum_of_even_numbers(numbers):\n",
        "    even_sum = sum(num for num in numbers if num % 2 == 0)\n",
        "    return even_sum\n",
        "\n"
      ],
      "metadata": {
        "id": "Ch5bxTBCvS1j"
      },
      "execution_count": 1,
      "outputs": []
    },
    {
      "cell_type": "code",
      "source": [
        "# Create a Python function that accepts a string and returns the reverse of that string.#\n",
        "def reverse_string(text):\n",
        "    return text[::-1]\n"
      ],
      "metadata": {
        "id": "wjX53XY4vvuk"
      },
      "execution_count": 2,
      "outputs": []
    },
    {
      "cell_type": "code",
      "source": [
        "#  Implement a Python function that takes a list of integers and returns a new list containing the squares of each number.#\n",
        "def square_numbers(numbers):\n",
        "    return [num ** 2 for num in numbers]\n"
      ],
      "metadata": {
        "id": "14ixJ-m7v76F"
      },
      "execution_count": 3,
      "outputs": []
    },
    {
      "cell_type": "code",
      "source": [
        "#  Write a Python function that checks if a given number is prime or not from 1 to 200.#\n",
        "def is_prime(n):\n",
        "    if n < 2:\n",
        "        return False  # 0 and 1 are not prime\n",
        "    for i in range(2, int(n**0.5) + 1):  # Check up to √n\n",
        "        if n % i == 0:\n",
        "            return False\n",
        "    return True\n"
      ],
      "metadata": {
        "id": "seXePWvZwTTp"
      },
      "execution_count": 4,
      "outputs": []
    },
    {
      "cell_type": "code",
      "source": [
        "# Create an iterator class in Python that generates the Fibonacci sequence up to a specified number of terms#\n",
        "class FibonacciIterator:\n",
        "    def __init__(self, max_terms):\n",
        "        self.max_terms = max_terms\n",
        "        self.count = 0\n",
        "        self.a, self.b = 0, 1\n",
        "\n",
        "    def __iter__(self):\n",
        "        return self\n",
        "\n",
        "    def __next__(self):\n",
        "        if self.count >= self.max_terms:\n",
        "            raise StopIteration\n",
        "        fib = self.a\n",
        "        self.a, self.b = self.b, self.a + self.b\n",
        "        self.count += 1\n",
        "        return fib\n"
      ],
      "metadata": {
        "id": "IRwYcTjFwe8y"
      },
      "execution_count": 5,
      "outputs": []
    },
    {
      "cell_type": "code",
      "source": [
        "# Write a generator function in Python that yields the powers of 2 up to a given exponent.#\n",
        "def powers_of_two(max_exponent):\n",
        "    for exp in range(max_exponent + 1):\n",
        "        yield 2 ** exp\n"
      ],
      "metadata": {
        "id": "paN00GuUwwp2"
      },
      "execution_count": 6,
      "outputs": []
    },
    {
      "cell_type": "code",
      "source": [
        "#  Implement a generator function that reads a file line by line and yields each line as a string.#\n",
        "def read_file_line_by_line(filename):\n",
        "    with open(filename, 'r') as file:\n",
        "        for line in file:\n",
        "            yield line.rstrip('\\n')  # remove newline character\n"
      ],
      "metadata": {
        "id": "yTQx_qbEw5QM"
      },
      "execution_count": 7,
      "outputs": []
    },
    {
      "cell_type": "code",
      "source": [
        "#  Use a lambda function in Python to sort a list of tuples based on the second element of each tuple#\n",
        "data = [(1, 3), (4, 1), (2, 2), (5, 0)]\n",
        "\n",
        "# Sort by second element using lambda\n",
        "sorted_data = sorted(data, key=lambda x: x[1])\n",
        "\n",
        "print(sorted_data)\n"
      ],
      "metadata": {
        "colab": {
          "base_uri": "https://localhost:8080/"
        },
        "id": "n3Q-yReBxF26",
        "outputId": "2317e991-ba3f-4f77-988d-5bec85d59520"
      },
      "execution_count": 8,
      "outputs": [
        {
          "output_type": "stream",
          "name": "stdout",
          "text": [
            "[(5, 0), (4, 1), (2, 2), (1, 3)]\n"
          ]
        }
      ]
    },
    {
      "cell_type": "code",
      "source": [
        "#  Write a Python program that uses `map()` to convert a list of temperatures from Celsius to Fahrenheit.#\n",
        "# List of temperatures in Celsius\n",
        "celsius_temps = [0, 20, 37, 100]\n",
        "\n",
        "# Convert to Fahrenheit using map and lambda\n",
        "fahrenheit_temps = list(map(lambda c: (c * 9/5) + 32, celsius_temps))\n",
        "\n",
        "# Print result\n",
        "print(\"Fahrenheit temperatures:\", fahrenheit_temps)\n"
      ],
      "metadata": {
        "colab": {
          "base_uri": "https://localhost:8080/"
        },
        "id": "kIskbGuTxPeV",
        "outputId": "6538d026-4802-40cc-99df-d6c4097445a7"
      },
      "execution_count": 9,
      "outputs": [
        {
          "output_type": "stream",
          "name": "stdout",
          "text": [
            "Fahrenheit temperatures: [32.0, 68.0, 98.6, 212.0]\n"
          ]
        }
      ]
    },
    {
      "cell_type": "code",
      "source": [
        "#  Create a Python program that uses `filter()` to remove all the vowels from a given string#\n",
        "def remove_vowels(text):\n",
        "    vowels = 'aeiouAEIOU'\n",
        "    # Use filter to exclude vowels\n",
        "    return ''.join(filter(lambda char: char not in vowels, text))\n",
        "\n",
        "# Example usage\n",
        "input_string = \"Hello World\"\n",
        "result = remove_vowels(input_string)\n",
        "print(\"String without vowels:\", result)\n"
      ],
      "metadata": {
        "colab": {
          "base_uri": "https://localhost:8080/"
        },
        "id": "Cj6zJeawxZvu",
        "outputId": "f43357bc-0d0c-46b6-fb10-67fe86d4c336"
      },
      "execution_count": 10,
      "outputs": [
        {
          "output_type": "stream",
          "name": "stdout",
          "text": [
            "String without vowels: Hll Wrld\n"
          ]
        }
      ]
    }
  ]
}